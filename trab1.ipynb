{
 "cells": [
  {
   "cell_type": "code",
   "execution_count": null,
   "id": "69ae03e2",
   "metadata": {},
   "outputs": [],
   "source": [
    "#𝐿    definida  por  𝐿 = {𝑥 | 𝑥 ∈ {𝑎,𝑏}∗ 𝑒 𝑐𝑎𝑑𝑎 𝑎 𝑒𝑚 𝑥 é 𝑠𝑒𝑔𝑢𝑖𝑑𝑜 𝑝𝑜𝑟 𝑝𝑒𝑙𝑜 𝑚𝑒𝑛𝑜𝑠 𝑑𝑜𝑖𝑠 𝑏} segundo o alfabeto  Σ={𝑎,𝑏,𝑐}.\n",
    "\n",
    "\n",
    "estado = 0\n",
    "def estado1(string, i):\n",
    "  if(i == len(string)):\n",
    "    print(string + \" pertence \")\n",
    "  else:\n",
    "    if string[i] == 'b':\n",
    "      estado1(string, i + 1)\n",
    "    elif string[i] == 'a':\n",
    "      estado2(string, i + 1)\n",
    "    elif string[i] == 'c':\n",
    "      estado3(string)\n",
    "def estado2(string, i):\n",
    "  \n",
    "  if(i == len(string)):\n",
    "    print(string + \" não pertence \")\n",
    "  else:\n",
    "    if string[i] == 'b':\n",
    "      estado4(string, i + 1)\n",
    "    else:\n",
    "      estado3(string)\n",
    "def estado3(string):\n",
    "  print(string + \" não pertence \")\n",
    "def estado4(string, i):\n",
    "  if(i == len(string)):\n",
    "    print(string + \" não pertence \")\n",
    "  else:\n",
    "    if string[i] == 'b':\n",
    "      estado1(string, i + 1)\n",
    "    else:\n",
    "      estado3(string)\n",
    "\n",
    "# para que não tenha problemas com o salvamento do arquivo caso ele esteja aberto na hora da execução do código  \n",
    "\n",
    "with open (\"teste2.txt\", \"r\") as arquivo:\n",
    "  conteudo = arquivo.readlines()\n",
    "\n",
    "conteudo = [x.rstrip('\\n') for x in conteudo] \n",
    "\n",
    "\n",
    "#print(conteudo)\n",
    "conteudo.pop(0)\n",
    "print(conteudo)\n",
    "for elemento in conteudo:\n",
    "  estado = 0\n",
    "  estado1(elemento, 0)"
   ]
  }
 ],
 "metadata": {
  "kernelspec": {
   "display_name": "Python 3",
   "language": "python",
   "name": "python3"
  },
  "language_info": {
   "codemirror_mode": {
    "name": "ipython",
    "version": 3
   },
   "file_extension": ".py",
   "mimetype": "text/x-python",
   "name": "python",
   "nbconvert_exporter": "python",
   "pygments_lexer": "ipython3",
   "version": "3.8.8"
  }
 },
 "nbformat": 4,
 "nbformat_minor": 5
}
